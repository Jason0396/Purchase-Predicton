{
 "cells": [
  {
   "cell_type": "code",
   "execution_count": 1,
   "id": "e055e0e6",
   "metadata": {},
   "outputs": [],
   "source": [
    "import pandas as pd\n",
    "import numpy as np\n",
    "import warnings \n",
    "warnings.filterwarnings(\"ignore\")\n",
    "import seaborn as sns\n",
    "import matplotlib.pyplot as plt\n",
    "from scipy import stats\n",
    "from scipy.stats import ks_2samp\n",
    "# from scipy.stats import norm"
   ]
  },
  {
   "cell_type": "code",
   "execution_count": 2,
   "id": "35904327",
   "metadata": {},
   "outputs": [],
   "source": [
    "from sklearn.feature_selection import SelectFromModel\n",
    "from sklearn.model_selection import cross_validate \n",
    "from sklearn.model_selection import cross_val_score\n",
    "from sklearn.metrics import confusion_matrix, accuracy_score\n",
    "from sklearn.inspection import permutation_importance"
   ]
  },
  {
   "cell_type": "code",
   "execution_count": 3,
   "id": "95364666",
   "metadata": {},
   "outputs": [],
   "source": [
    "from sklearn.model_selection import train_test_split\n",
    "from sklearn.model_selection import GridSearchCV\n",
    "from sklearn.ensemble import RandomForestClassifier\n",
    "from sklearn.metrics import confusion_matrix\n",
    "from sklearn import metrics\n",
    "import xgboost as xgb\n",
    "from xgboost.sklearn import XGBClassifier"
   ]
  },
  {
   "cell_type": "markdown",
   "id": "6e181d7b",
   "metadata": {},
   "source": [
    "## Nôi dung \n",
    "### <a href='#1'> 1. Xử lý dữ liệu\n",
    "#### <a href='#1.1'> 1.1. Đưa dữ liệu json về dạng bảng\n",
    "#### <a href='#1.2'> 1.2. Feature Engineering (biến đổi các thuộc tính, thêm các thuộc tính mới)\n",
    "#### <a href='#1.3'> 1.3. Kiểm tra phân phối của dữ liệu\n",
    "#### <a href='#1.4'> 1.4. Kiểm tra tính cân bằng dữ liệu\n",
    "#### <a href='#1.5'> 1.5. Outlier\n",
    "### <a href='#2'> 2. Phân tích mô tả\n",
    "#### <a href='#2.1'> 2.1. Đánh giá khả năng tác động từng thuộc tính nên kết quả mục tiêu \n",
    "#### <a href='#2.2'> 2.2. Đánh giá tương quan\n",
    "### <a href='#3'> 3. Mô hình Random Forest\n",
    "#### <a href='#3.1'> 3.1. Lựa chọn thuộc tính\n",
    "#### <a href='#3.2'> 3.2. Xây dựng, tinh chỉnh và đánh giá mô hình\n",
    "### <a href='#4'> 4. Mô hình XGBoost\n",
    "#### <a href='#4.1'> 4.1. Xây dựng mô hình\n",
    "#### <a href='#4.2'> 4.2. Tuning hyper-parameter"
   ]
  },
  {
   "cell_type": "markdown",
   "id": "9a685276",
   "metadata": {},
   "source": [
    "### <a id= '1'> 1. Xử lý dữ liệu"
   ]
  },
  {
   "cell_type": "markdown",
   "id": "814cb865",
   "metadata": {},
   "source": [
    "#### <a id= '1.1'> 1.1. Đưa dữ liệu json về dạng bảng"
   ]
  },
  {
   "cell_type": "code",
   "execution_count": 4,
   "id": "84153965",
   "metadata": {},
   "outputs": [],
   "source": [
    "df=pd.read_csv(r'1MG.csv')"
   ]
  },
  {
   "cell_type": "code",
   "execution_count": 5,
   "id": "353d62d1",
   "metadata": {},
   "outputs": [
    {
     "data": {
      "text/html": [
       "<div>\n",
       "<style scoped>\n",
       "    .dataframe tbody tr th:only-of-type {\n",
       "        vertical-align: middle;\n",
       "    }\n",
       "\n",
       "    .dataframe tbody tr th {\n",
       "        vertical-align: top;\n",
       "    }\n",
       "\n",
       "    .dataframe thead th {\n",
       "        text-align: right;\n",
       "    }\n",
       "</style>\n",
       "<table border=\"1\" class=\"dataframe\">\n",
       "  <thead>\n",
       "    <tr style=\"text-align: right;\">\n",
       "      <th></th>\n",
       "      <th>index</th>\n",
       "      <th>csn</th>\n",
       "      <th>date</th>\n",
       "      <th>transaction_info</th>\n",
       "    </tr>\n",
       "  </thead>\n",
       "  <tbody>\n",
       "    <tr>\n",
       "      <th>0</th>\n",
       "      <td>0</td>\n",
       "      <td>Y2NgaWJoYw==</td>\n",
       "      <td>2018-03-02</td>\n",
       "      <td>[{'article': '10020163', 'salesquantity': 2.0,...</td>\n",
       "    </tr>\n",
       "    <tr>\n",
       "      <th>1</th>\n",
       "      <td>1</td>\n",
       "      <td>Y2NgaWJoYw==</td>\n",
       "      <td>2018-03-04</td>\n",
       "      <td>[{'article': '10026562', 'salesquantity': 3.0,...</td>\n",
       "    </tr>\n",
       "    <tr>\n",
       "      <th>2</th>\n",
       "      <td>2</td>\n",
       "      <td>Y2NgaWlpYA==</td>\n",
       "      <td>2018-02-27</td>\n",
       "      <td>[{'article': '10013531', 'salesquantity': 1.0,...</td>\n",
       "    </tr>\n",
       "    <tr>\n",
       "      <th>3</th>\n",
       "      <td>3</td>\n",
       "      <td>Y2NgaWlpYA==</td>\n",
       "      <td>2018-03-16</td>\n",
       "      <td>[{'article': '10008991', 'salesquantity': 1.0,...</td>\n",
       "    </tr>\n",
       "    <tr>\n",
       "      <th>4</th>\n",
       "      <td>4</td>\n",
       "      <td>Y2NgaWlpYA==</td>\n",
       "      <td>2018-05-24</td>\n",
       "      <td>[{'article': '10009698', 'salesquantity': 1.0,...</td>\n",
       "    </tr>\n",
       "    <tr>\n",
       "      <th>...</th>\n",
       "      <td>...</td>\n",
       "      <td>...</td>\n",
       "      <td>...</td>\n",
       "      <td>...</td>\n",
       "    </tr>\n",
       "    <tr>\n",
       "      <th>95</th>\n",
       "      <td>95</td>\n",
       "      <td>Y2Nha2ZmYw==</td>\n",
       "      <td>2018-03-18</td>\n",
       "      <td>[{'article': '10083185', 'salesquantity': 1.0,...</td>\n",
       "    </tr>\n",
       "    <tr>\n",
       "      <th>96</th>\n",
       "      <td>96</td>\n",
       "      <td>Y2Nha2hmZg==</td>\n",
       "      <td>2018-03-06</td>\n",
       "      <td>[{'article': '10016393', 'salesquantity': 1.0,...</td>\n",
       "    </tr>\n",
       "    <tr>\n",
       "      <th>97</th>\n",
       "      <td>97</td>\n",
       "      <td>Y2Nha2hmZg==</td>\n",
       "      <td>2018-04-12</td>\n",
       "      <td>[{'article': '10013198', 'salesquantity': 1.0,...</td>\n",
       "    </tr>\n",
       "    <tr>\n",
       "      <th>98</th>\n",
       "      <td>98</td>\n",
       "      <td>Y2Nha2hmZg==</td>\n",
       "      <td>2018-04-14</td>\n",
       "      <td>[{'article': '10054854', 'salesquantity': 0.62...</td>\n",
       "    </tr>\n",
       "    <tr>\n",
       "      <th>99</th>\n",
       "      <td>99</td>\n",
       "      <td>Y2Nha2hmZg==</td>\n",
       "      <td>2018-04-15</td>\n",
       "      <td>[{'article': '10083246', 'salesquantity': 1.0,...</td>\n",
       "    </tr>\n",
       "  </tbody>\n",
       "</table>\n",
       "<p>100 rows × 4 columns</p>\n",
       "</div>"
      ],
      "text/plain": [
       "    index           csn        date  \\\n",
       "0       0  Y2NgaWJoYw==  2018-03-02   \n",
       "1       1  Y2NgaWJoYw==  2018-03-04   \n",
       "2       2  Y2NgaWlpYA==  2018-02-27   \n",
       "3       3  Y2NgaWlpYA==  2018-03-16   \n",
       "4       4  Y2NgaWlpYA==  2018-05-24   \n",
       "..    ...           ...         ...   \n",
       "95     95  Y2Nha2ZmYw==  2018-03-18   \n",
       "96     96  Y2Nha2hmZg==  2018-03-06   \n",
       "97     97  Y2Nha2hmZg==  2018-04-12   \n",
       "98     98  Y2Nha2hmZg==  2018-04-14   \n",
       "99     99  Y2Nha2hmZg==  2018-04-15   \n",
       "\n",
       "                                     transaction_info  \n",
       "0   [{'article': '10020163', 'salesquantity': 2.0,...  \n",
       "1   [{'article': '10026562', 'salesquantity': 3.0,...  \n",
       "2   [{'article': '10013531', 'salesquantity': 1.0,...  \n",
       "3   [{'article': '10008991', 'salesquantity': 1.0,...  \n",
       "4   [{'article': '10009698', 'salesquantity': 1.0,...  \n",
       "..                                                ...  \n",
       "95  [{'article': '10083185', 'salesquantity': 1.0,...  \n",
       "96  [{'article': '10016393', 'salesquantity': 1.0,...  \n",
       "97  [{'article': '10013198', 'salesquantity': 1.0,...  \n",
       "98  [{'article': '10054854', 'salesquantity': 0.62...  \n",
       "99  [{'article': '10083246', 'salesquantity': 1.0,...  \n",
       "\n",
       "[100 rows x 4 columns]"
      ]
     },
     "execution_count": 5,
     "metadata": {},
     "output_type": "execute_result"
    }
   ],
   "source": [
    "# 1.1.Đưa dữ liệu json về dạng bảng\n",
    "df=df.reset_index()\n",
    "import ast\n",
    "df.transaction_info.apply(ast.literal_eval)\n",
    "df2=pd.DataFrame(df.transaction_info.apply(ast.literal_eval).sum(),index=df.index.repeat(df.transaction_info.apply(ast.literal_eval).str.len())).reset_index()"
   ]
  },
  {
   "cell_type": "code",
   "execution_count": 6,
   "id": "ca8dda2a",
   "metadata": {},
   "outputs": [],
   "source": [
    "df=pd.merge(df[['csn','date', 'index']],df2,on='index',how='left')"
   ]
  },
  {
   "cell_type": "markdown",
   "id": "6b169367",
   "metadata": {},
   "source": [
    "#### <a id= '1.2'> 1.2. Feature Engineering (biến đổi các thuộc tính, thêm các thuộc tính mới)"
   ]
  },
  {
   "cell_type": "code",
   "execution_count": 7,
   "id": "30d7a0b2",
   "metadata": {},
   "outputs": [],
   "source": [
    "#add column month\n",
    "df['date']=pd.to_datetime(df['date'])\n",
    "df['month'] = df['date'].dt.month\n",
    "df['total_price']=df['price']*df['salesquantity']"
   ]
  },
  {
   "cell_type": "code",
   "execution_count": 8,
   "id": "d7edd54d",
   "metadata": {},
   "outputs": [],
   "source": [
    "#tìm các sản phầm có tần suất mua cao đối với từng khách hàng\n",
    "df_item_1=df.groupby(['csn','article'])['salesquantity'].count().reset_index()\n",
    "df_item_2=df_item_1.groupby('article')['salesquantity'].mean().reset_index()\n",
    "df_item_3=df_item_2.sort_values(by='salesquantity',ascending=False )\n",
    "df_top=df_item_3[df_item_3['salesquantity']>1]"
   ]
  },
  {
   "cell_type": "code",
   "execution_count": 10,
   "id": "21db847a",
   "metadata": {},
   "outputs": [],
   "source": [
    "df=pd.merge(df,df_top, on= 'article', how='left')\n",
    "df.loc[df['salesquantity_y'].notnull()==True, 'top_item']=1\n",
    "df.loc[df['salesquantity_y'].notnull()==False, 'top_item']=0"
   ]
  },
  {
   "cell_type": "markdown",
   "id": "67f996a7",
   "metadata": {},
   "source": [
    "Dataset gồm các dữ liệu mua hàng từ tháng 2 đến tháng 6"
   ]
  },
  {
   "cell_type": "markdown",
   "id": "57966358",
   "metadata": {},
   "source": [
    "Tính toán các thuộc tính phái sinh (theo tháng): \n",
    "- unique_item: số lượng loại item KH mua\n",
    "- quantity: số lượng mua\n",
    "- freq: tần suất (số lần) mua\n",
    "- price: tổng tiền mua \n",
    "- top_item: tổng số lần mua các sản phẩm top (sản phẩm có tần suất mua cao)"
   ]
  },
  {
   "cell_type": "code",
   "execution_count": 11,
   "id": "3fbaee19",
   "metadata": {},
   "outputs": [],
   "source": [
    "df2=df.groupby(['csn','month']).agg({'article': 'nunique','salesquantity_x': ['sum','count'], 'total_price': 'sum', 'top_item':'sum'}).reset_index()\n",
    "df2.columns=['csn','month','unique_item','quantity','freq','total_price','top_item']"
   ]
  },
  {
   "cell_type": "code",
   "execution_count": 12,
   "id": "eed44e36",
   "metadata": {},
   "outputs": [],
   "source": [
    "#thêm các tháng còn thiếu cho từng KH, đảm bảo có dữ liệu từng khách từ t2 đến t6. Các tháng thêm vào giá trị bằng 0\n",
    "df_month=df2.set_index(['month', 'csn'])[['unique_item']].unstack().unstack().reset_index()\n",
    "df2=pd.merge(df_month[['csn','month']], df2, on=['csn','month'], how='left').fillna(0)"
   ]
  },
  {
   "cell_type": "code",
   "execution_count": 13,
   "id": "3d91f4ba",
   "metadata": {},
   "outputs": [],
   "source": [
    "#gắn nhãn dữ liệu\n",
    "df2.loc[df2['total_price'] >0, 'purchase']=1\n",
    "df2.loc[df2['total_price'] == 0, 'purchase']=0"
   ]
  },
  {
   "cell_type": "code",
   "execution_count": 14,
   "id": "c2a11257",
   "metadata": {},
   "outputs": [
    {
     "data": {
      "text/html": [
       "<div>\n",
       "<style scoped>\n",
       "    .dataframe tbody tr th:only-of-type {\n",
       "        vertical-align: middle;\n",
       "    }\n",
       "\n",
       "    .dataframe tbody tr th {\n",
       "        vertical-align: top;\n",
       "    }\n",
       "\n",
       "    .dataframe thead th {\n",
       "        text-align: right;\n",
       "    }\n",
       "</style>\n",
       "<table border=\"1\" class=\"dataframe\">\n",
       "  <thead>\n",
       "    <tr style=\"text-align: right;\">\n",
       "      <th></th>\n",
       "      <th>csn</th>\n",
       "      <th>month</th>\n",
       "      <th>unique_item</th>\n",
       "      <th>quantity</th>\n",
       "      <th>freq</th>\n",
       "      <th>total_price</th>\n",
       "      <th>top_item</th>\n",
       "      <th>purchase</th>\n",
       "    </tr>\n",
       "  </thead>\n",
       "  <tbody>\n",
       "    <tr>\n",
       "      <th>0</th>\n",
       "      <td>Y2NgaWJoYw==</td>\n",
       "      <td>2</td>\n",
       "      <td>0.0</td>\n",
       "      <td>0.0</td>\n",
       "      <td>0.0</td>\n",
       "      <td>0.0</td>\n",
       "      <td>0.0</td>\n",
       "      <td>0.0</td>\n",
       "    </tr>\n",
       "    <tr>\n",
       "      <th>1</th>\n",
       "      <td>Y2NgaWJoYw==</td>\n",
       "      <td>3</td>\n",
       "      <td>3.0</td>\n",
       "      <td>7.0</td>\n",
       "      <td>3.0</td>\n",
       "      <td>161500.0</td>\n",
       "      <td>3.0</td>\n",
       "      <td>1.0</td>\n",
       "    </tr>\n",
       "    <tr>\n",
       "      <th>2</th>\n",
       "      <td>Y2NgaWJoYw==</td>\n",
       "      <td>4</td>\n",
       "      <td>0.0</td>\n",
       "      <td>0.0</td>\n",
       "      <td>0.0</td>\n",
       "      <td>0.0</td>\n",
       "      <td>0.0</td>\n",
       "      <td>0.0</td>\n",
       "    </tr>\n",
       "    <tr>\n",
       "      <th>3</th>\n",
       "      <td>Y2NgaWJoYw==</td>\n",
       "      <td>5</td>\n",
       "      <td>0.0</td>\n",
       "      <td>0.0</td>\n",
       "      <td>0.0</td>\n",
       "      <td>0.0</td>\n",
       "      <td>0.0</td>\n",
       "      <td>0.0</td>\n",
       "    </tr>\n",
       "    <tr>\n",
       "      <th>4</th>\n",
       "      <td>Y2NgaWJoYw==</td>\n",
       "      <td>6</td>\n",
       "      <td>0.0</td>\n",
       "      <td>0.0</td>\n",
       "      <td>0.0</td>\n",
       "      <td>0.0</td>\n",
       "      <td>0.0</td>\n",
       "      <td>0.0</td>\n",
       "    </tr>\n",
       "    <tr>\n",
       "      <th>...</th>\n",
       "      <td>...</td>\n",
       "      <td>...</td>\n",
       "      <td>...</td>\n",
       "      <td>...</td>\n",
       "      <td>...</td>\n",
       "      <td>...</td>\n",
       "      <td>...</td>\n",
       "      <td>...</td>\n",
       "    </tr>\n",
       "    <tr>\n",
       "      <th>99995</th>\n",
       "      <td>amxpbWNk</td>\n",
       "      <td>2</td>\n",
       "      <td>0.0</td>\n",
       "      <td>0.0</td>\n",
       "      <td>0.0</td>\n",
       "      <td>0.0</td>\n",
       "      <td>0.0</td>\n",
       "      <td>0.0</td>\n",
       "    </tr>\n",
       "    <tr>\n",
       "      <th>99996</th>\n",
       "      <td>amxpbWNk</td>\n",
       "      <td>3</td>\n",
       "      <td>0.0</td>\n",
       "      <td>0.0</td>\n",
       "      <td>0.0</td>\n",
       "      <td>0.0</td>\n",
       "      <td>0.0</td>\n",
       "      <td>0.0</td>\n",
       "    </tr>\n",
       "    <tr>\n",
       "      <th>99997</th>\n",
       "      <td>amxpbWNk</td>\n",
       "      <td>4</td>\n",
       "      <td>4.0</td>\n",
       "      <td>5.0</td>\n",
       "      <td>4.0</td>\n",
       "      <td>305400.0</td>\n",
       "      <td>1.0</td>\n",
       "      <td>1.0</td>\n",
       "    </tr>\n",
       "    <tr>\n",
       "      <th>99998</th>\n",
       "      <td>amxpbWNk</td>\n",
       "      <td>5</td>\n",
       "      <td>0.0</td>\n",
       "      <td>0.0</td>\n",
       "      <td>0.0</td>\n",
       "      <td>0.0</td>\n",
       "      <td>0.0</td>\n",
       "      <td>0.0</td>\n",
       "    </tr>\n",
       "    <tr>\n",
       "      <th>99999</th>\n",
       "      <td>amxpbWNk</td>\n",
       "      <td>6</td>\n",
       "      <td>0.0</td>\n",
       "      <td>0.0</td>\n",
       "      <td>0.0</td>\n",
       "      <td>0.0</td>\n",
       "      <td>0.0</td>\n",
       "      <td>0.0</td>\n",
       "    </tr>\n",
       "  </tbody>\n",
       "</table>\n",
       "<p>100000 rows × 8 columns</p>\n",
       "</div>"
      ],
      "text/plain": [
       "                csn  month  unique_item  quantity  freq  total_price  \\\n",
       "0      Y2NgaWJoYw==      2          0.0       0.0   0.0          0.0   \n",
       "1      Y2NgaWJoYw==      3          3.0       7.0   3.0     161500.0   \n",
       "2      Y2NgaWJoYw==      4          0.0       0.0   0.0          0.0   \n",
       "3      Y2NgaWJoYw==      5          0.0       0.0   0.0          0.0   \n",
       "4      Y2NgaWJoYw==      6          0.0       0.0   0.0          0.0   \n",
       "...             ...    ...          ...       ...   ...          ...   \n",
       "99995      amxpbWNk      2          0.0       0.0   0.0          0.0   \n",
       "99996      amxpbWNk      3          0.0       0.0   0.0          0.0   \n",
       "99997      amxpbWNk      4          4.0       5.0   4.0     305400.0   \n",
       "99998      amxpbWNk      5          0.0       0.0   0.0          0.0   \n",
       "99999      amxpbWNk      6          0.0       0.0   0.0          0.0   \n",
       "\n",
       "       top_item  purchase  \n",
       "0           0.0       0.0  \n",
       "1           3.0       1.0  \n",
       "2           0.0       0.0  \n",
       "3           0.0       0.0  \n",
       "4           0.0       0.0  \n",
       "...         ...       ...  \n",
       "99995       0.0       0.0  \n",
       "99996       0.0       0.0  \n",
       "99997       1.0       1.0  \n",
       "99998       0.0       0.0  \n",
       "99999       0.0       0.0  \n",
       "\n",
       "[100000 rows x 8 columns]"
      ]
     },
     "execution_count": 14,
     "metadata": {},
     "output_type": "execute_result"
    }
   ],
   "source": [
    "df2"
   ]
  },
  {
   "cell_type": "code",
   "execution_count": 15,
   "id": "4b4073a0",
   "metadata": {},
   "outputs": [],
   "source": [
    "#thuộc tính tương ứng 4 thuộc tính phái sinh (phía trên) tại thời điểm 1 tháng trước \n",
    "df2['unique_item_month'] = (df2.sort_values(by=['csn','month'], ascending=True) .groupby(['csn'])['unique_item'].shift(1)).fillna(0)\n",
    "df2['quantity_month'] = (df2.sort_values(by=['csn','month'], ascending=True) .groupby(['csn'])['quantity'].shift(1)).fillna(0)\n",
    "df2['freq_month'] = (df2.sort_values(by=['csn','month'], ascending=True) .groupby(['csn'])['freq'].shift(1)).fillna(0)\n",
    "df2['price_month'] = (df2.sort_values(by=['csn','month'], ascending=True) .groupby(['csn'])['total_price'].shift(1)).fillna(0)\n",
    "df2['top_item_month'] = (df2.sort_values(by=['csn','month'], ascending=True) .groupby(['csn'])['top_item'].shift(1)).fillna(0)\n",
    "\n",
    "#thuộc tính tương ứng 4 thuộc tính phái sinh (phía trên) tại thời điểm 2 tháng trước \n",
    "df2['unique_item_2_month'] = (df2.sort_values(by=['csn','month'], ascending=True) .groupby(['csn'])['unique_item'].shift(2)).fillna(0)\n",
    "df2['quantity_2_month'] = (df2.sort_values(by=['csn','month'], ascending=True) .groupby(['csn'])['quantity'].shift(2)).fillna(0)\n",
    "df2['freq_2_month'] = (df2.sort_values(by=['csn','month'], ascending=True) .groupby(['csn'])['freq'].shift(2)).fillna(0)\n",
    "df2['price_2_month'] = (df2.sort_values(by=['csn','month'], ascending=True) .groupby(['csn'])['total_price'].shift(2)).fillna(0)\n",
    "df2['top_item_2_month'] = (df2.sort_values(by=['csn','month'], ascending=True) .groupby(['csn'])['top_item'].shift(2)).fillna(0)\n"
   ]
  },
  {
   "cell_type": "markdown",
   "id": "70d69bfc",
   "metadata": {},
   "source": [
    "Mô hình dự đoán khả năng mua dựa trên số liệu 2 tháng trước nên dữ liệu xâu dựng mô hình từ tháng 4 đến tháng 6"
   ]
  },
  {
   "cell_type": "code",
   "execution_count": 16,
   "id": "5bca0562",
   "metadata": {},
   "outputs": [
    {
     "data": {
      "text/html": [
       "<div>\n",
       "<style scoped>\n",
       "    .dataframe tbody tr th:only-of-type {\n",
       "        vertical-align: middle;\n",
       "    }\n",
       "\n",
       "    .dataframe tbody tr th {\n",
       "        vertical-align: top;\n",
       "    }\n",
       "\n",
       "    .dataframe thead th {\n",
       "        text-align: right;\n",
       "    }\n",
       "</style>\n",
       "<table border=\"1\" class=\"dataframe\">\n",
       "  <thead>\n",
       "    <tr style=\"text-align: right;\">\n",
       "      <th></th>\n",
       "      <th>csn</th>\n",
       "      <th>month</th>\n",
       "      <th>unique_item</th>\n",
       "      <th>quantity</th>\n",
       "      <th>freq</th>\n",
       "      <th>total_price</th>\n",
       "      <th>top_item</th>\n",
       "      <th>purchase</th>\n",
       "      <th>unique_item_month</th>\n",
       "      <th>quantity_month</th>\n",
       "      <th>freq_month</th>\n",
       "      <th>price_month</th>\n",
       "      <th>top_item_month</th>\n",
       "      <th>unique_item_2_month</th>\n",
       "      <th>quantity_2_month</th>\n",
       "      <th>freq_2_month</th>\n",
       "      <th>price_2_month</th>\n",
       "      <th>top_item_2_month</th>\n",
       "    </tr>\n",
       "  </thead>\n",
       "  <tbody>\n",
       "    <tr>\n",
       "      <th>2</th>\n",
       "      <td>Y2NgaWJoYw==</td>\n",
       "      <td>4</td>\n",
       "      <td>0.0</td>\n",
       "      <td>0.000</td>\n",
       "      <td>0.0</td>\n",
       "      <td>0.00000</td>\n",
       "      <td>0.0</td>\n",
       "      <td>0.0</td>\n",
       "      <td>3.0</td>\n",
       "      <td>7.000</td>\n",
       "      <td>3.0</td>\n",
       "      <td>161500.00000</td>\n",
       "      <td>3.0</td>\n",
       "      <td>0.0</td>\n",
       "      <td>0.000</td>\n",
       "      <td>0.0</td>\n",
       "      <td>0.000000e+00</td>\n",
       "      <td>0.0</td>\n",
       "    </tr>\n",
       "    <tr>\n",
       "      <th>3</th>\n",
       "      <td>Y2NgaWJoYw==</td>\n",
       "      <td>5</td>\n",
       "      <td>0.0</td>\n",
       "      <td>0.000</td>\n",
       "      <td>0.0</td>\n",
       "      <td>0.00000</td>\n",
       "      <td>0.0</td>\n",
       "      <td>0.0</td>\n",
       "      <td>0.0</td>\n",
       "      <td>0.000</td>\n",
       "      <td>0.0</td>\n",
       "      <td>0.00000</td>\n",
       "      <td>0.0</td>\n",
       "      <td>3.0</td>\n",
       "      <td>7.000</td>\n",
       "      <td>3.0</td>\n",
       "      <td>1.615000e+05</td>\n",
       "      <td>3.0</td>\n",
       "    </tr>\n",
       "    <tr>\n",
       "      <th>4</th>\n",
       "      <td>Y2NgaWJoYw==</td>\n",
       "      <td>6</td>\n",
       "      <td>0.0</td>\n",
       "      <td>0.000</td>\n",
       "      <td>0.0</td>\n",
       "      <td>0.00000</td>\n",
       "      <td>0.0</td>\n",
       "      <td>0.0</td>\n",
       "      <td>0.0</td>\n",
       "      <td>0.000</td>\n",
       "      <td>0.0</td>\n",
       "      <td>0.00000</td>\n",
       "      <td>0.0</td>\n",
       "      <td>0.0</td>\n",
       "      <td>0.000</td>\n",
       "      <td>0.0</td>\n",
       "      <td>0.000000e+00</td>\n",
       "      <td>0.0</td>\n",
       "    </tr>\n",
       "    <tr>\n",
       "      <th>7</th>\n",
       "      <td>Y2NgaWlpYA==</td>\n",
       "      <td>4</td>\n",
       "      <td>0.0</td>\n",
       "      <td>0.000</td>\n",
       "      <td>0.0</td>\n",
       "      <td>0.00000</td>\n",
       "      <td>0.0</td>\n",
       "      <td>0.0</td>\n",
       "      <td>5.0</td>\n",
       "      <td>6.000</td>\n",
       "      <td>5.0</td>\n",
       "      <td>668000.00000</td>\n",
       "      <td>5.0</td>\n",
       "      <td>17.0</td>\n",
       "      <td>27.000</td>\n",
       "      <td>17.0</td>\n",
       "      <td>1.423700e+06</td>\n",
       "      <td>12.0</td>\n",
       "    </tr>\n",
       "    <tr>\n",
       "      <th>8</th>\n",
       "      <td>Y2NgaWlpYA==</td>\n",
       "      <td>5</td>\n",
       "      <td>4.0</td>\n",
       "      <td>9.000</td>\n",
       "      <td>4.0</td>\n",
       "      <td>485800.00000</td>\n",
       "      <td>4.0</td>\n",
       "      <td>1.0</td>\n",
       "      <td>0.0</td>\n",
       "      <td>0.000</td>\n",
       "      <td>0.0</td>\n",
       "      <td>0.00000</td>\n",
       "      <td>0.0</td>\n",
       "      <td>5.0</td>\n",
       "      <td>6.000</td>\n",
       "      <td>5.0</td>\n",
       "      <td>6.680000e+05</td>\n",
       "      <td>5.0</td>\n",
       "    </tr>\n",
       "    <tr>\n",
       "      <th>...</th>\n",
       "      <td>...</td>\n",
       "      <td>...</td>\n",
       "      <td>...</td>\n",
       "      <td>...</td>\n",
       "      <td>...</td>\n",
       "      <td>...</td>\n",
       "      <td>...</td>\n",
       "      <td>...</td>\n",
       "      <td>...</td>\n",
       "      <td>...</td>\n",
       "      <td>...</td>\n",
       "      <td>...</td>\n",
       "      <td>...</td>\n",
       "      <td>...</td>\n",
       "      <td>...</td>\n",
       "      <td>...</td>\n",
       "      <td>...</td>\n",
       "      <td>...</td>\n",
       "    </tr>\n",
       "    <tr>\n",
       "      <th>99993</th>\n",
       "      <td>amxpamJk</td>\n",
       "      <td>5</td>\n",
       "      <td>12.0</td>\n",
       "      <td>14.342</td>\n",
       "      <td>12.0</td>\n",
       "      <td>327043.99796</td>\n",
       "      <td>12.0</td>\n",
       "      <td>1.0</td>\n",
       "      <td>11.0</td>\n",
       "      <td>12.166</td>\n",
       "      <td>11.0</td>\n",
       "      <td>486182.99994</td>\n",
       "      <td>10.0</td>\n",
       "      <td>4.0</td>\n",
       "      <td>4.000</td>\n",
       "      <td>4.0</td>\n",
       "      <td>1.350000e+05</td>\n",
       "      <td>2.0</td>\n",
       "    </tr>\n",
       "    <tr>\n",
       "      <th>99994</th>\n",
       "      <td>amxpamJk</td>\n",
       "      <td>6</td>\n",
       "      <td>0.0</td>\n",
       "      <td>0.000</td>\n",
       "      <td>0.0</td>\n",
       "      <td>0.00000</td>\n",
       "      <td>0.0</td>\n",
       "      <td>0.0</td>\n",
       "      <td>12.0</td>\n",
       "      <td>14.342</td>\n",
       "      <td>12.0</td>\n",
       "      <td>327043.99796</td>\n",
       "      <td>12.0</td>\n",
       "      <td>11.0</td>\n",
       "      <td>12.166</td>\n",
       "      <td>11.0</td>\n",
       "      <td>4.861830e+05</td>\n",
       "      <td>10.0</td>\n",
       "    </tr>\n",
       "    <tr>\n",
       "      <th>99997</th>\n",
       "      <td>amxpbWNk</td>\n",
       "      <td>4</td>\n",
       "      <td>4.0</td>\n",
       "      <td>5.000</td>\n",
       "      <td>4.0</td>\n",
       "      <td>305400.00000</td>\n",
       "      <td>1.0</td>\n",
       "      <td>1.0</td>\n",
       "      <td>0.0</td>\n",
       "      <td>0.000</td>\n",
       "      <td>0.0</td>\n",
       "      <td>0.00000</td>\n",
       "      <td>0.0</td>\n",
       "      <td>0.0</td>\n",
       "      <td>0.000</td>\n",
       "      <td>0.0</td>\n",
       "      <td>0.000000e+00</td>\n",
       "      <td>0.0</td>\n",
       "    </tr>\n",
       "    <tr>\n",
       "      <th>99998</th>\n",
       "      <td>amxpbWNk</td>\n",
       "      <td>5</td>\n",
       "      <td>0.0</td>\n",
       "      <td>0.000</td>\n",
       "      <td>0.0</td>\n",
       "      <td>0.00000</td>\n",
       "      <td>0.0</td>\n",
       "      <td>0.0</td>\n",
       "      <td>4.0</td>\n",
       "      <td>5.000</td>\n",
       "      <td>4.0</td>\n",
       "      <td>305400.00000</td>\n",
       "      <td>1.0</td>\n",
       "      <td>0.0</td>\n",
       "      <td>0.000</td>\n",
       "      <td>0.0</td>\n",
       "      <td>0.000000e+00</td>\n",
       "      <td>0.0</td>\n",
       "    </tr>\n",
       "    <tr>\n",
       "      <th>99999</th>\n",
       "      <td>amxpbWNk</td>\n",
       "      <td>6</td>\n",
       "      <td>0.0</td>\n",
       "      <td>0.000</td>\n",
       "      <td>0.0</td>\n",
       "      <td>0.00000</td>\n",
       "      <td>0.0</td>\n",
       "      <td>0.0</td>\n",
       "      <td>0.0</td>\n",
       "      <td>0.000</td>\n",
       "      <td>0.0</td>\n",
       "      <td>0.00000</td>\n",
       "      <td>0.0</td>\n",
       "      <td>4.0</td>\n",
       "      <td>5.000</td>\n",
       "      <td>4.0</td>\n",
       "      <td>3.054000e+05</td>\n",
       "      <td>1.0</td>\n",
       "    </tr>\n",
       "  </tbody>\n",
       "</table>\n",
       "<p>60000 rows × 18 columns</p>\n",
       "</div>"
      ],
      "text/plain": [
       "                csn  month  unique_item  quantity  freq   total_price  \\\n",
       "2      Y2NgaWJoYw==      4          0.0     0.000   0.0       0.00000   \n",
       "3      Y2NgaWJoYw==      5          0.0     0.000   0.0       0.00000   \n",
       "4      Y2NgaWJoYw==      6          0.0     0.000   0.0       0.00000   \n",
       "7      Y2NgaWlpYA==      4          0.0     0.000   0.0       0.00000   \n",
       "8      Y2NgaWlpYA==      5          4.0     9.000   4.0  485800.00000   \n",
       "...             ...    ...          ...       ...   ...           ...   \n",
       "99993      amxpamJk      5         12.0    14.342  12.0  327043.99796   \n",
       "99994      amxpamJk      6          0.0     0.000   0.0       0.00000   \n",
       "99997      amxpbWNk      4          4.0     5.000   4.0  305400.00000   \n",
       "99998      amxpbWNk      5          0.0     0.000   0.0       0.00000   \n",
       "99999      amxpbWNk      6          0.0     0.000   0.0       0.00000   \n",
       "\n",
       "       top_item  purchase  unique_item_month  quantity_month  freq_month  \\\n",
       "2           0.0       0.0                3.0           7.000         3.0   \n",
       "3           0.0       0.0                0.0           0.000         0.0   \n",
       "4           0.0       0.0                0.0           0.000         0.0   \n",
       "7           0.0       0.0                5.0           6.000         5.0   \n",
       "8           4.0       1.0                0.0           0.000         0.0   \n",
       "...         ...       ...                ...             ...         ...   \n",
       "99993      12.0       1.0               11.0          12.166        11.0   \n",
       "99994       0.0       0.0               12.0          14.342        12.0   \n",
       "99997       1.0       1.0                0.0           0.000         0.0   \n",
       "99998       0.0       0.0                4.0           5.000         4.0   \n",
       "99999       0.0       0.0                0.0           0.000         0.0   \n",
       "\n",
       "        price_month  top_item_month  unique_item_2_month  quantity_2_month  \\\n",
       "2      161500.00000             3.0                  0.0             0.000   \n",
       "3           0.00000             0.0                  3.0             7.000   \n",
       "4           0.00000             0.0                  0.0             0.000   \n",
       "7      668000.00000             5.0                 17.0            27.000   \n",
       "8           0.00000             0.0                  5.0             6.000   \n",
       "...             ...             ...                  ...               ...   \n",
       "99993  486182.99994            10.0                  4.0             4.000   \n",
       "99994  327043.99796            12.0                 11.0            12.166   \n",
       "99997       0.00000             0.0                  0.0             0.000   \n",
       "99998  305400.00000             1.0                  0.0             0.000   \n",
       "99999       0.00000             0.0                  4.0             5.000   \n",
       "\n",
       "       freq_2_month  price_2_month  top_item_2_month  \n",
       "2               0.0   0.000000e+00               0.0  \n",
       "3               3.0   1.615000e+05               3.0  \n",
       "4               0.0   0.000000e+00               0.0  \n",
       "7              17.0   1.423700e+06              12.0  \n",
       "8               5.0   6.680000e+05               5.0  \n",
       "...             ...            ...               ...  \n",
       "99993           4.0   1.350000e+05               2.0  \n",
       "99994          11.0   4.861830e+05              10.0  \n",
       "99997           0.0   0.000000e+00               0.0  \n",
       "99998           0.0   0.000000e+00               0.0  \n",
       "99999           4.0   3.054000e+05               1.0  \n",
       "\n",
       "[60000 rows x 18 columns]"
      ]
     },
     "execution_count": 16,
     "metadata": {},
     "output_type": "execute_result"
    }
   ],
   "source": [
    "select=df2[df2['month']>3]\n",
    "select "
   ]
  },
  {
   "cell_type": "markdown",
   "id": "4f2444e3",
   "metadata": {},
   "source": [
    "#### <a id= '1.4'> 1.4. Kiểm tra tính cân bằng dữ liệu"
   ]
  },
  {
   "cell_type": "code",
   "execution_count": 17,
   "id": "8bca3740",
   "metadata": {},
   "outputs": [
    {
     "data": {
      "text/plain": [
       "0.4565666666666667"
      ]
     },
     "execution_count": 17,
     "metadata": {},
     "output_type": "execute_result"
    }
   ],
   "source": [
    "#(2) Dữ liệu có mất cân bằng không?\n",
    "select[select['purchase']==1]['purchase'].count()/select['purchase'].count()"
   ]
  },
  {
   "cell_type": "markdown",
   "id": "a8cf859c",
   "metadata": {},
   "source": [
    "Dữ liệu không mất cân bằng"
   ]
  },
  {
   "cell_type": "markdown",
   "id": "96e6e9d1",
   "metadata": {},
   "source": [
    "#### <a id= '1.5'> 1.5. Outlier"
   ]
  },
  {
   "cell_type": "code",
   "execution_count": 20,
   "id": "485b8465",
   "metadata": {},
   "outputs": [
    {
     "data": {
      "image/png": "[encoded data removed]",
      "text/plain": [
       "<Figure size 1080x1080 with 10 Axes>"
      ]
     },
     "metadata": {
      "needs_background": "light"
     },
     "output_type": "display_data"
    }
   ],
   "source": [
    "columns=['unique_item_month','quantity_month','freq_month','price_month','top_item_month','unique_item_2_month','quantity_2_month',\n",
    "         'freq_2_month','price_2_month','top_item_2_month']\n",
    "fig=plt.figure(figsize=(15,15))\n",
    "for i,j in enumerate(columns): \n",
    "    ax=fig.add_subplot(4,3,i+1)\n",
    "    fig.tight_layout(pad=3.0)\n",
    "    sns.boxplot(ax=ax,y = select[j], x = select['purchase']).set_title(str(j),size = 18)"
   ]
  },
  {
   "cell_type": "code",
   "execution_count": 22,
   "id": "7a65e964",
   "metadata": {},
   "outputs": [
    {
     "data": {
      "text/html": [
       "<div>\n",
       "<style scoped>\n",
       "    .dataframe tbody tr th:only-of-type {\n",
       "        vertical-align: middle;\n",
       "    }\n",
       "\n",
       "    .dataframe tbody tr th {\n",
       "        vertical-align: top;\n",
       "    }\n",
       "\n",
       "    .dataframe thead th {\n",
       "        text-align: right;\n",
       "    }\n",
       "</style>\n",
       "<table border=\"1\" class=\"dataframe\">\n",
       "  <thead>\n",
       "    <tr style=\"text-align: right;\">\n",
       "      <th></th>\n",
       "      <th>q1</th>\n",
       "      <th>q3</th>\n",
       "      <th>max_iqr</th>\n",
       "      <th>min_iqr</th>\n",
       "      <th>attr</th>\n",
       "      <th>nbr_outlier</th>\n",
       "      <th>pct_outlier</th>\n",
       "    </tr>\n",
       "  </thead>\n",
       "  <tbody>\n",
       "    <tr>\n",
       "      <th>unique_item_month</th>\n",
       "      <td>0.0</td>\n",
       "      <td>10.000000</td>\n",
       "      <td>2.500000e+01</td>\n",
       "      <td>-15.000000</td>\n",
       "      <td>unique_item_month</td>\n",
       "      <td>6367</td>\n",
       "      <td>10.611667</td>\n",
       "    </tr>\n",
       "    <tr>\n",
       "      <th>quantity_month</th>\n",
       "      <td>0.0</td>\n",
       "      <td>14.174000</td>\n",
       "      <td>3.543500e+01</td>\n",
       "      <td>-21.261000</td>\n",
       "      <td>quantity_month</td>\n",
       "      <td>7570</td>\n",
       "      <td>12.616667</td>\n",
       "    </tr>\n",
       "    <tr>\n",
       "      <th>freq_month</th>\n",
       "      <td>0.0</td>\n",
       "      <td>10.000000</td>\n",
       "      <td>2.500000e+01</td>\n",
       "      <td>-15.000000</td>\n",
       "      <td>freq_month</td>\n",
       "      <td>6992</td>\n",
       "      <td>11.653333</td>\n",
       "    </tr>\n",
       "    <tr>\n",
       "      <th>price_month</th>\n",
       "      <td>0.0</td>\n",
       "      <td>445808.000425</td>\n",
       "      <td>1.114520e+06</td>\n",
       "      <td>-668712.000637</td>\n",
       "      <td>price_month</td>\n",
       "      <td>7479</td>\n",
       "      <td>12.465000</td>\n",
       "    </tr>\n",
       "    <tr>\n",
       "      <th>top_item_month</th>\n",
       "      <td>0.0</td>\n",
       "      <td>9.000000</td>\n",
       "      <td>2.250000e+01</td>\n",
       "      <td>-13.500000</td>\n",
       "      <td>top_item_month</td>\n",
       "      <td>7317</td>\n",
       "      <td>12.195000</td>\n",
       "    </tr>\n",
       "    <tr>\n",
       "      <th>unique_item_2_month</th>\n",
       "      <td>0.0</td>\n",
       "      <td>11.000000</td>\n",
       "      <td>2.750000e+01</td>\n",
       "      <td>-16.500000</td>\n",
       "      <td>unique_item_2_month</td>\n",
       "      <td>6293</td>\n",
       "      <td>10.488333</td>\n",
       "    </tr>\n",
       "    <tr>\n",
       "      <th>quantity_2_month</th>\n",
       "      <td>0.0</td>\n",
       "      <td>16.420000</td>\n",
       "      <td>4.105000e+01</td>\n",
       "      <td>-24.630000</td>\n",
       "      <td>quantity_2_month</td>\n",
       "      <td>7120</td>\n",
       "      <td>11.866667</td>\n",
       "    </tr>\n",
       "    <tr>\n",
       "      <th>freq_2_month</th>\n",
       "      <td>0.0</td>\n",
       "      <td>12.000000</td>\n",
       "      <td>3.000000e+01</td>\n",
       "      <td>-18.000000</td>\n",
       "      <td>freq_2_month</td>\n",
       "      <td>6048</td>\n",
       "      <td>10.080000</td>\n",
       "    </tr>\n",
       "    <tr>\n",
       "      <th>price_2_month</th>\n",
       "      <td>0.0</td>\n",
       "      <td>545894.249280</td>\n",
       "      <td>1.364736e+06</td>\n",
       "      <td>-818841.373920</td>\n",
       "      <td>price_2_month</td>\n",
       "      <td>7265</td>\n",
       "      <td>12.108333</td>\n",
       "    </tr>\n",
       "    <tr>\n",
       "      <th>top_item_2_month</th>\n",
       "      <td>0.0</td>\n",
       "      <td>10.000000</td>\n",
       "      <td>2.500000e+01</td>\n",
       "      <td>-15.000000</td>\n",
       "      <td>top_item_2_month</td>\n",
       "      <td>6630</td>\n",
       "      <td>11.050000</td>\n",
       "    </tr>\n",
       "  </tbody>\n",
       "</table>\n",
       "</div>"
      ],
      "text/plain": [
       "                      q1             q3       max_iqr        min_iqr  \\\n",
       "unique_item_month    0.0      10.000000  2.500000e+01     -15.000000   \n",
       "quantity_month       0.0      14.174000  3.543500e+01     -21.261000   \n",
       "freq_month           0.0      10.000000  2.500000e+01     -15.000000   \n",
       "price_month          0.0  445808.000425  1.114520e+06 -668712.000637   \n",
       "top_item_month       0.0       9.000000  2.250000e+01     -13.500000   \n",
       "unique_item_2_month  0.0      11.000000  2.750000e+01     -16.500000   \n",
       "quantity_2_month     0.0      16.420000  4.105000e+01     -24.630000   \n",
       "freq_2_month         0.0      12.000000  3.000000e+01     -18.000000   \n",
       "price_2_month        0.0  545894.249280  1.364736e+06 -818841.373920   \n",
       "top_item_2_month     0.0      10.000000  2.500000e+01     -15.000000   \n",
       "\n",
       "                                    attr  nbr_outlier  pct_outlier  \n",
       "unique_item_month      unique_item_month         6367    10.611667  \n",
       "quantity_month            quantity_month         7570    12.616667  \n",
       "freq_month                    freq_month         6992    11.653333  \n",
       "price_month                  price_month         7479    12.465000  \n",
       "top_item_month            top_item_month         7317    12.195000  \n",
       "unique_item_2_month  unique_item_2_month         6293    10.488333  \n",
       "quantity_2_month        quantity_2_month         7120    11.866667  \n",
       "freq_2_month                freq_2_month         6048    10.080000  \n",
       "price_2_month              price_2_month         7265    12.108333  \n",
       "top_item_2_month        top_item_2_month         6630    11.050000  "
      ]
     },
     "execution_count": 22,
     "metadata": {},
     "output_type": "execute_result"
    }
   ],
   "source": [
    "#kiem tra outlier,ngưỡng 1,5iqr, đưa giá trị về đầu mút 1.5iqr\n",
    "#kiem tra tỷ lệ outlier\n",
    "df_iqr=select[columns].quantile([0.25,0.75],axis=0).T\n",
    "df_iqr.columns=['q1','q3']\n",
    "df_iqr['max_iqr']=df_iqr['q3'] + ((df_iqr['q3'] - df_iqr['q1'])*1.5)\n",
    "df_iqr['min_iqr']=df_iqr['q1'] - ((df_iqr['q3'] - df_iqr['q1'])*1.5)\n",
    "df_iqr['attr']=columns\n",
    "a=[]\n",
    "for i in columns:\n",
    "    b=select[(select[i]>df_iqr.loc[i,'max_iqr'])|(select[i]<df_iqr.loc[i,'min_iqr'])][i].count()\n",
    "    a.append(b)\n",
    "df_iqr['nbr_outlier']=a\n",
    "df_iqr['pct_outlier']=df_iqr['nbr_outlier']*100/select[columns].count()\n",
    "df_iqr"
   ]
  },
  {
   "cell_type": "markdown",
   "id": "1865c6f4",
   "metadata": {},
   "source": [
    "Tỷ lệ outlier 10-12% giá trị các thuộc tính. có thể thấy đối với purchase =1, giá trị outlier có xu hướng tập trung nhiều hơn => các giá trị outlier này là có ý nghĩa, giữ lại ko biến đổi."
   ]
  },
  {
   "cell_type": "markdown",
   "id": "b4cf7b3f",
   "metadata": {},
   "source": [
    "### <a id= '2'> 2. Phân tích mô tả"
   ]
  },
  {
   "cell_type": "markdown",
   "id": "d6354144",
   "metadata": {},
   "source": [
    "#### <a id='2.1'> 2.1. Đánh giá khả năng tác động từng thuộc tính nên kết quả mục tiêu "
   ]
  },
  {
   "cell_type": "code",
   "execution_count": 23,
   "id": "14f12828",
   "metadata": {},
   "outputs": [],
   "source": [
    "#Kiểm định K-S\n",
    "ks_test=pd.DataFrame([],columns=['attributes','ks_statistic'])\n",
    "for x in (columns):\n",
    "    ks_test_add=pd.DataFrame([])\n",
    "    a=select[select['purchase']==1][x].values\n",
    "    b=select[select['purchase']==0][x].values\n",
    "    ks_test_add['attributes']=[x]\n",
    "    ks_test_add['ks_statistic']=ks_2samp(a, b).statistic\n",
    "    ks_test=pd.concat([ks_test,ks_test_add],ignore_index=True)"
   ]
  },
  {
   "cell_type": "code",
   "execution_count": 24,
   "id": "cbafaf3b",
   "metadata": {},
   "outputs": [
    {
     "data": {
      "text/html": [
       "<div>\n",
       "<style scoped>\n",
       "    .dataframe tbody tr th:only-of-type {\n",
       "        vertical-align: middle;\n",
       "    }\n",
       "\n",
       "    .dataframe tbody tr th {\n",
       "        vertical-align: top;\n",
       "    }\n",
       "\n",
       "    .dataframe thead th {\n",
       "        text-align: right;\n",
       "    }\n",
       "</style>\n",
       "<table border=\"1\" class=\"dataframe\">\n",
       "  <thead>\n",
       "    <tr style=\"text-align: right;\">\n",
       "      <th></th>\n",
       "      <th>attributes</th>\n",
       "      <th>ks_statistic</th>\n",
       "    </tr>\n",
       "  </thead>\n",
       "  <tbody>\n",
       "    <tr>\n",
       "      <th>0</th>\n",
       "      <td>unique_item_month</td>\n",
       "      <td>0.304689</td>\n",
       "    </tr>\n",
       "    <tr>\n",
       "      <th>1</th>\n",
       "      <td>quantity_month</td>\n",
       "      <td>0.302287</td>\n",
       "    </tr>\n",
       "    <tr>\n",
       "      <th>2</th>\n",
       "      <td>freq_month</td>\n",
       "      <td>0.307655</td>\n",
       "    </tr>\n",
       "    <tr>\n",
       "      <th>3</th>\n",
       "      <td>price_month</td>\n",
       "      <td>0.296506</td>\n",
       "    </tr>\n",
       "    <tr>\n",
       "      <th>4</th>\n",
       "      <td>top_item_month</td>\n",
       "      <td>0.310090</td>\n",
       "    </tr>\n",
       "    <tr>\n",
       "      <th>5</th>\n",
       "      <td>unique_item_2_month</td>\n",
       "      <td>0.246945</td>\n",
       "    </tr>\n",
       "    <tr>\n",
       "      <th>6</th>\n",
       "      <td>quantity_2_month</td>\n",
       "      <td>0.241305</td>\n",
       "    </tr>\n",
       "    <tr>\n",
       "      <th>7</th>\n",
       "      <td>freq_2_month</td>\n",
       "      <td>0.250711</td>\n",
       "    </tr>\n",
       "    <tr>\n",
       "      <th>8</th>\n",
       "      <td>price_2_month</td>\n",
       "      <td>0.232187</td>\n",
       "    </tr>\n",
       "    <tr>\n",
       "      <th>9</th>\n",
       "      <td>top_item_2_month</td>\n",
       "      <td>0.253331</td>\n",
       "    </tr>\n",
       "  </tbody>\n",
       "</table>\n",
       "</div>"
      ],
      "text/plain": [
       "            attributes  ks_statistic\n",
       "0    unique_item_month      0.304689\n",
       "1       quantity_month      0.302287\n",
       "2           freq_month      0.307655\n",
       "3          price_month      0.296506\n",
       "4       top_item_month      0.310090\n",
       "5  unique_item_2_month      0.246945\n",
       "6     quantity_2_month      0.241305\n",
       "7         freq_2_month      0.250711\n",
       "8        price_2_month      0.232187\n",
       "9     top_item_2_month      0.253331"
      ]
     },
     "execution_count": 24,
     "metadata": {},
     "output_type": "execute_result"
    }
   ],
   "source": [
    "ks_test"
   ]
  },
  {
   "cell_type": "code",
   "execution_count": 25,
   "id": "a6707b73",
   "metadata": {},
   "outputs": [],
   "source": [
    "#Kiểm định t-test\n",
    "t_test=pd.DataFrame([],columns=['attributes','ttest_pvalue'])\n",
    "for x in (columns):\n",
    "    t_test_add=pd.DataFrame([])\n",
    "    a=select[select['purchase']==1][x].values\n",
    "    b=select[select['purchase']==0][x].values\n",
    "    t_test_add['attributes']=[x]\n",
    "    t_test_add['ttest_pvalue']=stats.ttest_ind(a,b).pvalue\n",
    "    t_test=pd.concat([t_test,t_test_add],ignore_index=True)"
   ]
  },
  {
   "cell_type": "code",
   "execution_count": 26,
   "id": "d02a7fb0",
   "metadata": {},
   "outputs": [
    {
     "data": {
      "text/html": [
       "<div>\n",
       "<style scoped>\n",
       "    .dataframe tbody tr th:only-of-type {\n",
       "        vertical-align: middle;\n",
       "    }\n",
       "\n",
       "    .dataframe tbody tr th {\n",
       "        vertical-align: top;\n",
       "    }\n",
       "\n",
       "    .dataframe thead th {\n",
       "        text-align: right;\n",
       "    }\n",
       "</style>\n",
       "<table border=\"1\" class=\"dataframe\">\n",
       "  <thead>\n",
       "    <tr style=\"text-align: right;\">\n",
       "      <th></th>\n",
       "      <th>attributes</th>\n",
       "      <th>ttest_pvalue</th>\n",
       "    </tr>\n",
       "  </thead>\n",
       "  <tbody>\n",
       "    <tr>\n",
       "      <th>0</th>\n",
       "      <td>unique_item_month</td>\n",
       "      <td>0.000000e+00</td>\n",
       "    </tr>\n",
       "    <tr>\n",
       "      <th>1</th>\n",
       "      <td>quantity_month</td>\n",
       "      <td>6.666858e-09</td>\n",
       "    </tr>\n",
       "    <tr>\n",
       "      <th>2</th>\n",
       "      <td>freq_month</td>\n",
       "      <td>0.000000e+00</td>\n",
       "    </tr>\n",
       "    <tr>\n",
       "      <th>3</th>\n",
       "      <td>price_month</td>\n",
       "      <td>2.255366e-32</td>\n",
       "    </tr>\n",
       "    <tr>\n",
       "      <th>4</th>\n",
       "      <td>top_item_month</td>\n",
       "      <td>0.000000e+00</td>\n",
       "    </tr>\n",
       "    <tr>\n",
       "      <th>5</th>\n",
       "      <td>unique_item_2_month</td>\n",
       "      <td>0.000000e+00</td>\n",
       "    </tr>\n",
       "    <tr>\n",
       "      <th>6</th>\n",
       "      <td>quantity_2_month</td>\n",
       "      <td>5.735479e-10</td>\n",
       "    </tr>\n",
       "    <tr>\n",
       "      <th>7</th>\n",
       "      <td>freq_2_month</td>\n",
       "      <td>0.000000e+00</td>\n",
       "    </tr>\n",
       "    <tr>\n",
       "      <th>8</th>\n",
       "      <td>price_2_month</td>\n",
       "      <td>5.247349e-35</td>\n",
       "    </tr>\n",
       "    <tr>\n",
       "      <th>9</th>\n",
       "      <td>top_item_2_month</td>\n",
       "      <td>0.000000e+00</td>\n",
       "    </tr>\n",
       "  </tbody>\n",
       "</table>\n",
       "</div>"
      ],
      "text/plain": [
       "            attributes  ttest_pvalue\n",
       "0    unique_item_month  0.000000e+00\n",
       "1       quantity_month  6.666858e-09\n",
       "2           freq_month  0.000000e+00\n",
       "3          price_month  2.255366e-32\n",
       "4       top_item_month  0.000000e+00\n",
       "5  unique_item_2_month  0.000000e+00\n",
       "6     quantity_2_month  5.735479e-10\n",
       "7         freq_2_month  0.000000e+00\n",
       "8        price_2_month  5.247349e-35\n",
       "9     top_item_2_month  0.000000e+00"
      ]
     },
     "execution_count": 26,
     "metadata": {},
     "output_type": "execute_result"
    }
   ],
   "source": [
    "t_test"
   ]
  },
  {
   "cell_type": "markdown",
   "id": "be6bf19c",
   "metadata": {},
   "source": [
    "Với ngưỡng K-s >22%, p-value(t-test) < 0.05, qua kiểm định K-S và t-test, các biến đều có khả năng phân biệt khách hàng mua/không mua"
   ]
  },
  {
   "cell_type": "markdown",
   "id": "8328f63c",
   "metadata": {},
   "source": [
    "#### <a id= '2.2'> 2.2. Đánh giá tương quan"
   ]
  },
  {
   "cell_type": "code",
   "execution_count": 27,
   "id": "ad20cd60",
   "metadata": {},
   "outputs": [
    {
     "data": {
      "text/plain": [
       "<AxesSubplot:>"
      ]
     },
     "execution_count": 27,
     "metadata": {},
     "output_type": "execute_result"
    },
    {
     "data": {
      "image/png": "[encoded data removed]",
      "text/plain": [
       "<Figure size 1728x720 with 2 Axes>"
      ]
     },
     "metadata": {
      "needs_background": "light"
     },
     "output_type": "display_data"
    }
   ],
   "source": [
    "#ma trận tương quan giữa các biến \n",
    "corr=select.corr()\n",
    "fig,ax=plt.subplots(figsize=(24,10))\n",
    "sns.heatmap(corr.round(2),\n",
    "            center=0,\n",
    "            cmap='coolwarm',\n",
    "            annot=True)"
   ]
  },
  {
   "cell_type": "code",
   "execution_count": 28,
   "id": "f2122651",
   "metadata": {},
   "outputs": [],
   "source": [
    "x=select[['unique_item_month','quantity_month','freq_month','price_month','top_item_month','unique_item_2_month','quantity_2_month','freq_2_month','price_2_month','top_item_2_month']]\n",
    "y=select['purchase']\n",
    "x_train, x_test, y_train, y_test = train_test_split(x, y, test_size=0.30, random_state=42, stratify=y)"
   ]
  },
  {
   "cell_type": "markdown",
   "id": "993e3bb4",
   "metadata": {},
   "source": [
    "### <a id= '3'> 3. Mô hình RandomForest"
   ]
  },
  {
   "cell_type": "markdown",
   "id": "42caf698",
   "metadata": {},
   "source": [
    "#### <a id= '3.1'> 3.1. Lựa chọn thuộc tính phương pháp tính permutation importance"
   ]
  },
  {
   "cell_type": "code",
   "execution_count": 32,
   "id": "cd51d4ee",
   "metadata": {},
   "outputs": [
    {
     "data": {
      "text/plain": [
       "RandomForestClassifier(random_state=42)"
      ]
     },
     "execution_count": 32,
     "metadata": {},
     "output_type": "execute_result"
    }
   ],
   "source": [
    "rf_model= RandomForestClassifier(n_estimators = 100,random_state=42)\n",
    "rf_model.fit(x_train, y_train)"
   ]
  },
  {
   "cell_type": "code",
   "execution_count": 33,
   "id": "0eac6c85",
   "metadata": {},
   "outputs": [],
   "source": [
    "result = permutation_importance(rf_model, x_train, y_train, n_repeats=5,random_state=42, n_jobs=2)\n",
    "sorted_idx = result.importances_mean.argsort()"
   ]
  },
  {
   "cell_type": "code",
   "execution_count": 34,
   "id": "bc52defc",
   "metadata": {},
   "outputs": [
    {
     "data": {
      "image/png": "[encoded data removed]",
      "text/plain": [
       "<Figure size 864x576 with 1 Axes>"
      ]
     },
     "metadata": {
      "needs_background": "light"
     },
     "output_type": "display_data"
    }
   ],
   "source": [
    "fig, ax = plt.subplots(figsize=(12,8))\n",
    "ax.boxplot(result.importances[sorted_idx].T,vert=False, labels=x_train.columns[sorted_idx])\n",
    "ax.set_title(\"Permutation Importances\")\n",
    "fig.tight_layout()\n",
    "plt.show()"
   ]
  },
  {
   "cell_type": "markdown",
   "id": "6acb69df",
   "metadata": {},
   "source": [
    "Lấy top 8 feature importance để xây dựng mô hình: ['unique_item_month','quantity_month','freq_month','price_month','quantity_2_month','price_2_month','top_item_month','top_item_2_month]"
   ]
  },
  {
   "cell_type": "markdown",
   "id": "8534ea87",
   "metadata": {},
   "source": [
    "#### <a id= '3.2'> 3.2. Xây dựng, tinh chỉnh và đánh giá mô hình"
   ]
  },
  {
   "cell_type": "code",
   "execution_count": 35,
   "id": "5b88b21a",
   "metadata": {},
   "outputs": [],
   "source": [
    "x_train_selected=x_train[['unique_item_month','quantity_month','freq_month','price_month','quantity_2_month','price_2_month','top_item_month','top_item_2_month']]\n",
    "x_test_selected=x_test[['unique_item_month','quantity_month','freq_month','price_month','quantity_2_month','price_2_month','top_item_month','top_item_2_month']]"
   ]
  },
  {
   "cell_type": "code",
   "execution_count": 48,
   "id": "46935e24",
   "metadata": {},
   "outputs": [
    {
     "name": "stdout",
     "output_type": "stream",
     "text": [
      "0.7280861157626071\n"
     ]
    }
   ],
   "source": [
    "model_RF = RandomForestClassifier(n_estimators=100,random_state=42)\n",
    "grid = {   \n",
    "    'max_depth': [4, 5, 6],\n",
    "    'max_features': [4,5,6],\n",
    "    'min_samples_leaf': [3, 4,5]\n",
    "    }\n",
    "rf = GridSearchCV(estimator=model_RF, param_grid=grid, cv=10, scoring = 'roc_auc')\n",
    "rf.fit(x_train_selected, y_train)\n",
    "\n",
    "best_depth = rf.best_params_['max_depth']\n",
    "best_feature = rf.best_params_['max_features']\n",
    "best_sample_leaf = rf.best_params_['min_samples_leaf']\n",
    "print(max(rf.cv_results_['mean_test_score']))"
   ]
  },
  {
   "cell_type": "code",
   "execution_count": 49,
   "id": "ce62ca9f",
   "metadata": {},
   "outputs": [],
   "source": [
    "#auroc_test\n",
    "y_pre_selected=rf.predict(x_test_selected)\n",
    "fpr,tpr,thresholds=metrics.roc_curve(y_test,rf.predict_proba(x_test_selected)[:,1])\n",
    "rf_auroc_test=metrics.auc(fpr,tpr)\n",
    "#auroc_train\n",
    "rf_auroc_train=max(rf.cv_results_['mean_test_score'].round(3))\n",
    "#confusion matrix, accuracy\n",
    "rf_confusion_matrix = confusion_matrix(y_test, y_pre_selected)\n",
    "#accuracy\n",
    "rf_accuracy=accuracy_score(y_test, y_pre_selected)"
   ]
  },
  {
   "cell_type": "code",
   "execution_count": 50,
   "id": "7ba18bfa",
   "metadata": {},
   "outputs": [
    {
     "data": {
      "text/plain": [
       "0.7329464860112536"
      ]
     },
     "execution_count": 50,
     "metadata": {},
     "output_type": "execute_result"
    }
   ],
   "source": [
    "rf_auroc_test"
   ]
  },
  {
   "cell_type": "code",
   "execution_count": 51,
   "id": "c5135d55",
   "metadata": {},
   "outputs": [
    {
     "data": {
      "text/plain": [
       "0.728"
      ]
     },
     "execution_count": 51,
     "metadata": {},
     "output_type": "execute_result"
    }
   ],
   "source": [
    "rf_auroc_train"
   ]
  },
  {
   "cell_type": "code",
   "execution_count": 52,
   "id": "c46910a1",
   "metadata": {},
   "outputs": [
    {
     "data": {
      "text/plain": [
       "array([[8551, 1231],\n",
       "       [4097, 4121]], dtype=int64)"
      ]
     },
     "execution_count": 52,
     "metadata": {},
     "output_type": "execute_result"
    }
   ],
   "source": [
    "rf_confusion_matrix"
   ]
  },
  {
   "cell_type": "code",
   "execution_count": 53,
   "id": "743d2906",
   "metadata": {},
   "outputs": [
    {
     "data": {
      "text/plain": [
       "0.704"
      ]
     },
     "execution_count": 53,
     "metadata": {},
     "output_type": "execute_result"
    }
   ],
   "source": [
    "rf_accuracy"
   ]
  },
  {
   "cell_type": "markdown",
   "id": "b358d487",
   "metadata": {},
   "source": [
    "### <a id= '4'> 4. Mô hình XGBoost"
   ]
  },
  {
   "cell_type": "markdown",
   "id": "cbaf6132",
   "metadata": {},
   "source": [
    "#### <a id= '4.1'> 4.1. Xây dựng mô hình"
   ]
  },
  {
   "cell_type": "code",
   "execution_count": 54,
   "id": "17397510",
   "metadata": {},
   "outputs": [],
   "source": [
    "def modelfit(alg, x_train ,y_train,x_test, y_test, useTrainCV=True, cv_folds=5, early_stopping_rounds=70):\n",
    "    \n",
    "    if useTrainCV:\n",
    "        xgb_param = alg.get_xgb_params()\n",
    "        xgtrain = xgb.DMatrix(x_train.values, label=y_train.values)\n",
    "        cvresult = xgb.cv(xgb_param, xgtrain, num_boost_round=alg.get_params()['n_estimators'], nfold=cv_folds,\n",
    "            metrics='auc', early_stopping_rounds=early_stopping_rounds)\n",
    "        alg.set_params(n_estimators=cvresult.shape[0])\n",
    "    \n",
    "    #Fit the algorithm on the data\n",
    "    alg.fit(x_train, y_train,eval_metric='auc')\n",
    "        \n",
    "    #Predict training set:\n",
    "    dtrain_predictions = alg.predict(x_train)\n",
    "    dtrain_predprob = alg.predict_proba(x_train)[:,1]\n",
    "    \n",
    "    #Predict test set:\n",
    "    dtest_predictions = alg.predict(x_test)\n",
    "    dtest_predprob = alg.predict_proba(x_test)[:,1]\n",
    "        \n",
    "    #Print model report:\n",
    "    print (\"Train_Accuracy : %.4g\" % metrics.accuracy_score(y_train, dtrain_predictions))\n",
    "    print (\"Train_AUC Score : %f\" % metrics.roc_auc_score(y_train, dtrain_predprob))\n",
    "    print (\"Test_Accuracy : %.4g\" % metrics.accuracy_score(y_test, dtest_predictions))\n",
    "    print (\"Test_AUC Score : %f\" % metrics.roc_auc_score(y_test, dtest_predprob))\n",
    "    print (confusion_matrix(y_test, dtest_predictions))"
   ]
  },
  {
   "cell_type": "markdown",
   "id": "14b9ec1f",
   "metadata": {},
   "source": [
    "#### <a id= '4.2'> 4.2. Tuning hyper-parameter"
   ]
  },
  {
   "cell_type": "markdown",
   "id": "f9d02ee1",
   "metadata": {},
   "source": [
    "#### Tuning tree-based (n_estimater), cố định ban đầu các para của cây"
   ]
  },
  {
   "cell_type": "code",
   "execution_count": 55,
   "id": "18353ec3",
   "metadata": {},
   "outputs": [
    {
     "name": "stdout",
     "output_type": "stream",
     "text": [
      "Train_Accuracy : 0.7004\n",
      "Train_AUC Score : 0.739131\n",
      "Test_Accuracy : 0.7029\n",
      "Test_AUC Score : 0.733315\n",
      "[[8639 1143]\n",
      " [4205 4013]]\n"
     ]
    },
    {
     "data": {
      "text/plain": [
       "120"
      ]
     },
     "execution_count": 55,
     "metadata": {},
     "output_type": "execute_result"
    }
   ],
   "source": [
    "xgb1 = XGBClassifier(learning_rate =0.05,n_estimators=1000,max_depth=5,min_child_weight=1,gamma=0,subsample=0.8,\n",
    "                     colsample_bytree=0.8,objective= 'binary:logistic', nthread=4,scale_pos_weight=1,seed=27)\n",
    "modelfit(xgb1, x_train, y_train, x_test, y_test)\n",
    "xgb1.get_booster().best_iteration"
   ]
  },
  {
   "cell_type": "markdown",
   "id": "83c82c2e",
   "metadata": {},
   "source": [
    "#### Tune max_depth và min_child_weight"
   ]
  },
  {
   "cell_type": "code",
   "execution_count": 56,
   "id": "b0846951",
   "metadata": {},
   "outputs": [
    {
     "name": "stdout",
     "output_type": "stream",
     "text": [
      "[17:57:13] WARNING: C:/Users/Administrator/workspace/xgboost-win64_release_1.4.0/src/learner.cc:1095: Starting in XGBoost 1.3.0, the default evaluation metric used with the objective 'binary:logistic' was changed from 'error' to 'logloss'. Explicitly set eval_metric if you'd like to restore the old behavior.\n"
     ]
    },
    {
     "data": {
      "text/plain": [
       "({'max_depth': 5, 'min_child_weight': 5}, 0.7279079676405099)"
      ]
     },
     "execution_count": 56,
     "metadata": {},
     "output_type": "execute_result"
    }
   ],
   "source": [
    "param_test1 = {'max_depth':[4,5,6],\n",
    "               'min_child_weight':[3,4,5]\n",
    "              }\n",
    "gsearch1 = GridSearchCV(estimator = XGBClassifier( learning_rate =0.05, n_estimators=120, max_depth=5,\n",
    "                                                  min_child_weight=1, gamma=0, subsample=0.8, colsample_bytree=0.8,\n",
    "                                                  objective= 'binary:logistic', nthread=4, scale_pos_weight=1, seed=27), \n",
    "                        param_grid = param_test1, scoring='roc_auc',n_jobs=4, cv=5)\n",
    "gsearch1.fit(x_train, y_train)\n",
    "gsearch1.best_params_, gsearch1.best_score_"
   ]
  },
  {
   "cell_type": "markdown",
   "id": "600dfda1",
   "metadata": {},
   "source": [
    "#### Tune gamma"
   ]
  },
  {
   "cell_type": "code",
   "execution_count": 57,
   "id": "25cafc9e",
   "metadata": {},
   "outputs": [
    {
     "name": "stdout",
     "output_type": "stream",
     "text": [
      "[17:58:25] WARNING: C:/Users/Administrator/workspace/xgboost-win64_release_1.4.0/src/learner.cc:1095: Starting in XGBoost 1.3.0, the default evaluation metric used with the objective 'binary:logistic' was changed from 'error' to 'logloss'. Explicitly set eval_metric if you'd like to restore the old behavior.\n"
     ]
    },
    {
     "data": {
      "text/plain": [
       "({'gamma': 0.0}, 0.7279079676405099)"
      ]
     },
     "execution_count": 57,
     "metadata": {},
     "output_type": "execute_result"
    }
   ],
   "source": [
    "param_test3 = {\n",
    " 'gamma':[i/10.0 for i in range(0,5)]\n",
    "}\n",
    "gsearch3 = GridSearchCV(estimator = XGBClassifier( learning_rate =0.05, n_estimators=120, max_depth=5,\n",
    " min_child_weight=5, gamma=0, subsample=0.8, colsample_bytree=0.8,\n",
    " objective= 'binary:logistic', nthread=4, scale_pos_weight=1,seed=27), \n",
    " param_grid = param_test3, scoring='roc_auc',n_jobs=4,cv=5)\n",
    "gsearch3.fit(x_train, y_train)\n",
    "gsearch3.best_params_, gsearch3.best_score_"
   ]
  },
  {
   "cell_type": "markdown",
   "id": "f1def79b",
   "metadata": {},
   "source": [
    "#### Tune subsample and colsample_bytree"
   ]
  },
  {
   "cell_type": "code",
   "execution_count": 58,
   "id": "8ff777a3",
   "metadata": {},
   "outputs": [
    {
     "name": "stdout",
     "output_type": "stream",
     "text": [
      "[18:01:59] WARNING: C:/Users/Administrator/workspace/xgboost-win64_release_1.4.0/src/learner.cc:1095: Starting in XGBoost 1.3.0, the default evaluation metric used with the objective 'binary:logistic' was changed from 'error' to 'logloss'. Explicitly set eval_metric if you'd like to restore the old behavior.\n"
     ]
    },
    {
     "data": {
      "text/plain": [
       "({'colsample_bytree': 0.6, 'subsample': 0.9}, 0.7280119584548018)"
      ]
     },
     "execution_count": 58,
     "metadata": {},
     "output_type": "execute_result"
    }
   ],
   "source": [
    "param_test4 = {'subsample':[i/10.0 for i in range(6,10)],\n",
    "               'colsample_bytree':[i/10.0 for i in range(6,10)]\n",
    "}\n",
    "gsearch4 = GridSearchCV(estimator = XGBClassifier( learning_rate =0.05, n_estimators=120, max_depth=5,\n",
    " min_child_weight=5, gamma=0, subsample=0.8, colsample_bytree=0.8,\n",
    " objective= 'binary:logistic', nthread=4, scale_pos_weight=1,seed=27), \n",
    " param_grid = param_test4, scoring='roc_auc',n_jobs=4, cv=5)\n",
    "gsearch4.fit(x_train, y_train)\n",
    "gsearch4.best_params_, gsearch4.best_score_"
   ]
  },
  {
   "cell_type": "markdown",
   "id": "d3cfd43d",
   "metadata": {},
   "source": [
    "#### Tuning Regularization Parameters"
   ]
  },
  {
   "cell_type": "code",
   "execution_count": 59,
   "id": "17935f22",
   "metadata": {},
   "outputs": [
    {
     "name": "stdout",
     "output_type": "stream",
     "text": [
      "[18:03:02] WARNING: C:/Users/Administrator/workspace/xgboost-win64_release_1.4.0/src/learner.cc:1095: Starting in XGBoost 1.3.0, the default evaluation metric used with the objective 'binary:logistic' was changed from 'error' to 'logloss'. Explicitly set eval_metric if you'd like to restore the old behavior.\n"
     ]
    },
    {
     "data": {
      "text/plain": [
       "({'reg_alpha': 0.01}, 0.7280553829947414)"
      ]
     },
     "execution_count": 59,
     "metadata": {},
     "output_type": "execute_result"
    }
   ],
   "source": [
    "param_test6 = {\n",
    " 'reg_alpha':[1e-5, 1e-2, 0.1, 1, 10]\n",
    "}\n",
    "gsearch6 =GridSearchCV(estimator = XGBClassifier( learning_rate =0.05, n_estimators=120, max_depth=5,\n",
    " min_child_weight=5, gamma=0, subsample=0.9, colsample_bytree=0.6,\n",
    " objective= 'binary:logistic', nthread=4, scale_pos_weight=1,seed=27), \n",
    " param_grid = param_test6, scoring='roc_auc',n_jobs=4, cv=5)\n",
    "gsearch6.fit(x_train, y_train)\n",
    "gsearch6.best_params_, gsearch6.best_score_"
   ]
  },
  {
   "cell_type": "code",
   "execution_count": 60,
   "id": "cc82f96f",
   "metadata": {},
   "outputs": [
    {
     "name": "stdout",
     "output_type": "stream",
     "text": [
      "Train_Accuracy : 0.6994\n",
      "Train_AUC Score : 0.737004\n",
      "Test_Accuracy : 0.7032\n",
      "Test_AUC Score : 0.733457\n",
      "[[8640 1142]\n",
      " [4201 4017]]\n"
     ]
    }
   ],
   "source": [
    "xgb1 = XGBClassifier( learning_rate =0.05, n_estimators=120, max_depth=5,\n",
    " min_child_weight=5, gamma=0, subsample=0.9, colsample_bytree=0.6,reg_alpha=0.01,\n",
    " objective= 'binary:logistic', nthread=4, scale_pos_weight=1,seed=27)\n",
    "modelfit(xgb1, x_train, y_train, x_test, y_test)"
   ]
  }
 ],
 "metadata": {
  "kernelspec": {
   "display_name": "Python 3",
   "language": "python",
   "name": "python3"
  },
  "language_info": {
   "codemirror_mode": {
    "name": "ipython",
    "version": 3
   },
   "file_extension": ".py",
   "mimetype": "text/x-python",
   "name": "python",
   "nbconvert_exporter": "python",
   "pygments_lexer": "ipython3",
   "version": "3.8.8"
  }
 },
 "nbformat": 4,
 "nbformat_minor": 5
}
